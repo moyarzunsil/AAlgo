{
 "cells": [
  {
   "cell_type": "markdown",
   "metadata": {},
   "source": [
    "# Métodos de Ordenamiento\n",
    "\n",
    "## Algoritmo de Ordenamiento Selección (Selection sort)\n",
    "La idea de este algoritmo es que en cada iteración $i$, buscamos y posicionamos el $i-esimo$ elemento mas pequeño y lo intercambiamos con el que esta en la posición $i$ actualmente."
   ]
  },
  {
   "cell_type": "code",
   "execution_count": 2,
   "metadata": {},
   "outputs": [],
   "source": [
    "def swap(A,x,y):\n",
    "    print(\"Posición \"+str(x)+\" por posición \"+str(y))\n",
    "    print(A)\n",
    "    aux=A[x]\n",
    "    A[x]=A[y]\n",
    "    A[y]=aux\n",
    "    \n",
    "def selection(arr):\n",
    "    n=len(arr)\n",
    "    # C1: ciclo para establecer el mínimo\n",
    "    for i in range(0,n):\n",
    "        minimum=i\n",
    "        # C2: verificar si en el resto del\n",
    "        # arreglo hay un número menor que minimum.\n",
    "        for j in range(i+1,n):\n",
    "            if arr[j]<arr[minimum]:\n",
    "                minimum=j\n",
    "        swap(arr,i,minimum)                "
   ]
  },
  {
   "cell_type": "markdown",
   "metadata": {},
   "source": [
    "El algoritmo de selección, como podemos ver, consta de dos iteraciones, la primera establece el mínimo en la posición actual $i$ (#C1), el segundo busca si en el resto de la lista $[i+1...n]$ existe algún elemento menor para posicionar en $i$ (#C2). Las comparaciones se realizan todas, sin importar los datos de entrada ya que este algoritmo es insensitivo al orden. Sin embargo, su ventaja respecto a burbuja es que solo realiza un intercambio por iteración de $i$.\n",
    "\n",
    "Para observar como funciona este algoritmo paso a paso, creamos un arreglo desordenado. Cada linea contendrá, que es lo que hay que cambiar y el estado actual del arreglo. Para este caso solo hemos considerado mostrar cuando se realiza un intercambio para evitar una traza demasiado extensa."
   ]
  },
  {
   "cell_type": "code",
   "execution_count": 3,
   "metadata": {},
   "outputs": [
    {
     "name": "stdout",
     "output_type": "stream",
     "text": [
      "Posición 0 por posición 5\n",
      "[15, 5, 8, 9, 3, 2, 7, 18, 12]\n",
      "Posición 1 por posición 4\n",
      "[2, 5, 8, 9, 3, 15, 7, 18, 12]\n",
      "Posición 2 por posición 4\n",
      "[2, 3, 8, 9, 5, 15, 7, 18, 12]\n",
      "Posición 3 por posición 6\n",
      "[2, 3, 5, 9, 8, 15, 7, 18, 12]\n",
      "Posición 4 por posición 4\n",
      "[2, 3, 5, 7, 8, 15, 9, 18, 12]\n",
      "Posición 5 por posición 6\n",
      "[2, 3, 5, 7, 8, 15, 9, 18, 12]\n",
      "Posición 6 por posición 8\n",
      "[2, 3, 5, 7, 8, 9, 15, 18, 12]\n",
      "Posición 7 por posición 8\n",
      "[2, 3, 5, 7, 8, 9, 12, 18, 15]\n",
      "Posición 8 por posición 8\n",
      "[2, 3, 5, 7, 8, 9, 12, 15, 18]\n",
      "Resultado final\n",
      "[2, 3, 5, 7, 8, 9, 12, 15, 18]\n"
     ]
    }
   ],
   "source": [
    "arreglo=[15,5,8,9,3,2,7,18,12]\n",
    "selection(arreglo)\n",
    "print (\"Resultado final\")\n",
    "print (arreglo)"
   ]
  },
  {
   "cell_type": "markdown",
   "metadata": {},
   "source": [
    "### Mejor Caso, Peor Caso y Caso Promedio\n",
    "Como ya se ha mencionado, al ser este un algoritmo insensitivo a los datos de entrada, siempre realiza todas las comparaciones, por ende no importa como, siempre estaremos en el mismo caso.\n",
    "\n",
    "Para comenzar el cálculo de complejidad, debemos establecer primero el número de comparaciones que realiza cada iteración. En la primera iteración se comparan todos contra el primer elemento, es decir, $n-1$ comparaciones. En la segunda iteración, el segundo elemento queda fijo y se compara contra todos, salvo el primero que ya esta ordenado, es decir, $n-2$ comparaciones. En general, podemos decir que para cada iteración $i$, el número de comparaciones será $n-i$, hasta la penúltima iteración que realizará $n-(n-1) = 1$ comparación.\n",
    "\n",
    "De este modo, la ecuación $T(n)$, que representa al trabajo acumulado de este algoritmo es:\n",
    "$$T(n)=\\sum_{i=n-1}^{1}i$$\n",
    "Por conmutatividad:\n",
    "$$T(n)=\\sum_{i=n-1}^{1}i$$\n",
    "$$T(n)=\\frac{(n-1)n}{2}$$\n",
    "$$T(n)=\\frac{n^2}{2}-\\frac{n}{2}$$\n",
    "$$T(n)\\sim\\frac{n^2}{2}=O(n^2)$$\n",
    "\n",
    "### Análisis Experimental\n",
    "A continuación veremos el análisis experimental usando un script python:"
   ]
  },
  {
   "cell_type": "code",
   "execution_count": 10,
   "metadata": {},
   "outputs": [],
   "source": [
    "import numpy as np\n",
    "import matplotlib.pyplot as plt\n",
    "import random as rnd\n",
    "import time as tm\n",
    "import scipy as sp\n",
    "\n",
    "def swap(A,x,y):\n",
    "    aux=A[x]\n",
    "    A[x]=A[y]\n",
    "    A[y]=aux\n",
    "\n",
    "def selection(arr):\n",
    "    n=len(arr)\n",
    "    for i in range(0,n):\n",
    "        minimum=i\n",
    "        for j in range(i+1,n):\n",
    "            if arr[j]<arr[minimum]:\n",
    "                minimum=j\n",
    "        swap(arr,i,minimum) \n",
    "                "
   ]
  },
  {
   "cell_type": "markdown",
   "metadata": {},
   "source": [
    "Definimos el arreglo donde se guardarán los números a ordenar, un arreglo con los tamaños de los arreglos a ordenar y un arreglo para guardar los tiempos de ejecución.\n"
   ]
  },
  {
   "cell_type": "code",
   "execution_count": 11,
   "metadata": {},
   "outputs": [],
   "source": [
    "arreglo=[]\n",
    "sizes=[64,128,256,512,1024,2048,4096,8192]\n",
    "tiempos=[]"
   ]
  },
  {
   "cell_type": "markdown",
   "metadata": {},
   "source": [
    "En el siguiente ciclo se generarán los arreglos con números aleatorios (#C3), se ordenarán con selección tomando sus tiempos (#C4) y luego se descartarán para pasar al siguiente tamaño en el arreglo sizes (#C5). <font color=\"red\">OJO: dependiendo del tamaños de los arreglos el siguiente bloque podría tomar un tiempo considerable en terminar. Como referencia, con burbuja un arreglo de 65536 elementos demora aproximadamente 10 minutos en un pc de escritorio.</font>"
   ]
  },
  {
   "cell_type": "code",
   "execution_count": 12,
   "metadata": {},
   "outputs": [
    {
     "name": "stdout",
     "output_type": "stream",
     "text": [
      "[64, 128, 256, 512, 1024, 2048, 4096, 8192]\n",
      "[0.00025391578674316406, 0.0012462139129638672, 0.004554033279418945, 0.02362203598022461, 0.06049680709838867, 0.2220628261566162, 0.9525339603424072, 3.641615867614746]\n"
     ]
    }
   ],
   "source": [
    "for curr_size in sizes:\n",
    "    # C3: generación de los arreglos aleatorios\n",
    "    for i in range(0,curr_size):\n",
    "        arreglo.append(rnd.randint(1,200000))\n",
    "    \n",
    "    # C4: llamada a selección y toma de tiempos\n",
    "    tiempo_inicial=tm.time()\n",
    "    selection(arreglo)\n",
    "    tiempo_final=tm.time()\n",
    "    tiempos.append(tiempo_final-tiempo_inicial)\n",
    "    \n",
    "    # C5: se descarta el arreglo actual para pasar a la\n",
    "    # siguiente iteración\n",
    "    del arreglo\n",
    "    arreglo=[]\n",
    "    \n",
    "print (sizes)\n",
    "print (tiempos)"
   ]
  },
  {
   "cell_type": "markdown",
   "metadata": {},
   "source": [
    "Finalmente gráficamos los tiempos a través de la librería matplotlib. Los puntos corresponden a las coordenadas sizes x tiempos y la linea es la aproximación a través de una función cuadrática. Podemos ver que obtenemos el comportamiento esperado para el ordenamiento tipo selección.\n"
   ]
  },
  {
   "cell_type": "code",
   "execution_count": 13,
   "metadata": {},
   "outputs": [
    {
     "data": {
      "image/png": "[encoded data removed]",
      "text/plain": [
       "<Figure size 432x288 with 1 Axes>"
      ]
     },
     "metadata": {
      "needs_background": "light"
     },
     "output_type": "display_data"
    }
   ],
   "source": [
    "aproximacion=sp.polyfit(sizes,tiempos,2)\n",
    "\n",
    "plt.plot(sizes, tiempos, \"or\", label='tiempos reales')\n",
    "plt.plot(sizes, sp.polyval(aproximacion,sizes), label='fx cuadratica')\n",
    "plt.xlabel('Tamaño Arreglo')\n",
    "plt.ylabel('Tiempo ordenamiento')\n",
    "\n",
    "plt.title('Ordenamiento selección')\n",
    "\n",
    "plt.legend(loc='best')\n",
    "\n",
    "plt.show()"
   ]
  }
 ],
 "metadata": {
  "kernelspec": {
   "display_name": "Python 3",
   "language": "python",
   "name": "python3"
  },
  "language_info": {
   "codemirror_mode": {
    "name": "ipython",
    "version": 3
   },
   "file_extension": ".py",
   "mimetype": "text/x-python",
   "name": "python",
   "nbconvert_exporter": "python",
   "pygments_lexer": "ipython3",
   "version": "3.7.0"
  }
 },
 "nbformat": 4,
 "nbformat_minor": 2
}
