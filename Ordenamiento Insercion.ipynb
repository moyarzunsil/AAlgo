{
 "cells": [
  {
   "cell_type": "markdown",
   "metadata": {},
   "source": [
    "# Métodos de Ordenamiento\n",
    "\n",
    "## Algoritmo de Ordenamiento Inserción (Insertion sort)\n",
    "La idea central de este algoritmo, es que insertar un número ordenado desde la génesis de un arreglo, será siempre menos costoso que insertar y luego ordenar. Bajo esta premisa, el método de inserción comienza a recorrer el arreglo, tomando en cada iteración el $i-esimo$ elemento, como el elemento nuevo a insertar, dejandolo emplazado en el lugar \"relativo\" (puede cambiar su posición final, pero no su posición respecto a los elementos ya insertados) donde le corresponde. El problema de este algoritmo es que se comporta muy mal en arreglos de memoria estática, ya que en el peor de los casos, una inserción del $i-esimo$ elemento al inicio del arreglo, podría requerir $i-1$ desplazamientos. La necesidad de estos desplazamientos se ve anulada si implementamos este algoritmo de ordenamiento sobre una lista enlazada."
   ]
  },
  {
   "cell_type": "code",
   "execution_count": 3,
   "metadata": {},
   "outputs": [],
   "source": [
    "def insertion(arr):\n",
    "    n=len(arr)\n",
    "    for i in range(1,n):\n",
    "        ne=arr[i]\n",
    "        loc=i-1\n",
    "        while loc>=0 and arr[loc]>ne:\n",
    "            arr[loc+1]=arr[loc]\n",
    "            loc=loc-1\n",
    "        arr[loc+1]=ne\n",
    "        print(\"elemento \"+str(ne)+\" posicionado en \"+str(loc+1))\n",
    "        print(arr)               "
   ]
  },
  {
   "cell_type": "markdown",
   "metadata": {},
   "source": [
    "En el algoritmo presentado, el ciclo for itera sobre cada elemento a posicionar, mientras que el ciclo while realiza los desplazamientos necesarios para dejarlos en su posición relativa. A continuación veremos como funciona esto con un ejemplo:"
   ]
  },
  {
   "cell_type": "code",
   "execution_count": 5,
   "metadata": {},
   "outputs": [
    {
     "name": "stdout",
     "output_type": "stream",
     "text": [
      "elemento 5 posicionado en 0\n",
      "[5, 15, 8, 9, 3, 2, 7, 18, 12]\n",
      "elemento 8 posicionado en 1\n",
      "[5, 8, 15, 9, 3, 2, 7, 18, 12]\n",
      "elemento 9 posicionado en 2\n",
      "[5, 8, 9, 15, 3, 2, 7, 18, 12]\n",
      "elemento 3 posicionado en 0\n",
      "[3, 5, 8, 9, 15, 2, 7, 18, 12]\n",
      "elemento 2 posicionado en 0\n",
      "[2, 3, 5, 8, 9, 15, 7, 18, 12]\n",
      "elemento 7 posicionado en 3\n",
      "[2, 3, 5, 7, 8, 9, 15, 18, 12]\n",
      "elemento 18 posicionado en 7\n",
      "[2, 3, 5, 7, 8, 9, 15, 18, 12]\n",
      "elemento 12 posicionado en 6\n",
      "[2, 3, 5, 7, 8, 9, 12, 15, 18]\n",
      "Resultado final\n",
      "[2, 3, 5, 7, 8, 9, 12, 15, 18]\n"
     ]
    }
   ],
   "source": [
    "arreglo=[15,5,8,9,3,2,7,18,12]\n",
    "insertion(arreglo)\n",
    "print (\"Resultado final\")\n",
    "print (arreglo)"
   ]
  },
  {
   "cell_type": "markdown",
   "metadata": {},
   "source": [
    "### Peor Caso\n",
    "De la misma manera que sucedía con el algoritmo de burbuja, el algoritmo de inserción es sensitivo a las condiciones de entrada. Esto provoca que una muy mala entrada, que en este caso es un arreglo ordenado de manera inversa, provoque que este tenga que realizar todo el trabajo posible en términos de comparaciones e intercambios.\n",
    "Es facil entonces ver, que en la iteración 1, se realizarán 0 intercambios, en la 2 se realizará 1 intercambio; en general para la iteración $i$ se realizarán $i-1$ intercambios.\n",
    "La función $T(n)$, que mide el tiempo necesario para realizar los intercambios, en este caso esta definida por:\n",
    "$$T(n)=\\sum_{i=1}^{n-1}i$$\n",
    "$$T(n)=\\frac{(n-1)n}{2}$$\n",
    "$$T(n)=\\frac{n^2}{2}-\\frac{n}{2}$$\n",
    "$$T(n)\\sim\\frac{n^2}{2}=O(n^2)$$\n",
    "\n",
    "### Caso Promedio\n",
    "El peor caso nos ofrece una cota superior a la hora de establecer la cantidad de comparaciones que tendremos en promedio en cada iteración. Si bien, esta cota nos ofrece un rango para cualquier iteración $i$ de $[1...i-1]$, esto no es suficiente para establecer el número exacto de comparaciones, por ello es necesario determinar una función genérica $C(i)$ a partir de los datos que conocemos, que nos entregue con cierta probabilidad la cantidad de comparaciones por iteración. Para ello asumiremos que cada número de comparaciones tiene la misma probabilidad de ocurrir, quedando nuestra función $C(i)$ genérica como:\n",
    "$$C(i)=\\frac{1}{i+1}\\left(i+\\sum_{p=1}^{i}p\\right)$$\n",
    "Entre los paréntesis tenemos el costo total de realizar todas las comparaciones para cada iteración $i$, ponderados por una probabilidad $\\frac{1}{i+1}$ de ocurrencia. El costo esta determinado por la sumatoria de $[1...i]$, a la cual se le suma $i$ (fuera de la sumatoria), ya que la última comparación que determina si el elemento esta en la posición $i-1$ o $i$ se realiza dos veces.\n",
    "De esta forma, la función $T(n)$ que determina el costo total de realizar las comparaciones, esta definida por:\n",
    "$$T(n)=\\sum_{i=1}^{n-1}C(i)$$\n",
    "Con la función $C(i)$ indeterminada, debemos definir esta función:\n",
    "$$C(i)=\\frac{1}{i+1}\\left(i+\\sum_{p=1}^{i}p\\right)$$\n",
    "$$C(i)=\\frac{1}{i+1}\\left(i+\\frac{i(i+1)}{2}\\right)$$\n",
    "$$C(i)=\\frac{2i+i(i+1)}{2(i+1)}$$\n",
    "$$C(i)=\\frac{2i}{2(i+1)}+\\frac{i(i+1)}{2(i+1)}$$\n",
    "$$C(i)=\\frac{i}{i+1}+\\frac{i}{2}$$\n",
    "$$C(i)=\\frac{i+1-1}{i+1}+\\frac{i}{2}$$\n",
    "$$C(i)=\\frac{i+1}{i+1}-\\frac{1}{i+1}+\\frac{i}{2}$$\n",
    "$$C(i)=1-\\frac{1}{i+1}+\\frac{i}{2}$$\n",
    "Ahora reemplazamos en $T(n)$:\n",
    "$$T(n)=\\sum_{i=1}^{n-1}C(i)$$\n",
    "$$T(n)=\\sum_{i=1}^{n-1}1-\\frac{1}{i+1}+\\frac{i}{2}$$\n",
    "$$T(n)=\\sum_{i=1}^{n-1}1-\\sum_{i=1}^{n-1}\\frac{1}{i+1}+\\sum_{i=1}^{n-1}\\frac{i}{2}$$\n",
    "$$T(n)=n-1-\\left(\\left(\\sum_{i=1}^{n}\\frac{1}{i}\\right)-1\\right)+\\frac{1}{2}\\sum_{i=1}^{n-1}i$$\n",
    "$$T(n)\\approx n-1-\\ln (n)+1+\\frac{(n-1)n}{4}$$\n",
    "$$T(n)\\approx n-\\ln (n)+\\frac{(n^2)}{4}-\\frac{n}{4}$$\n",
    "$$T(n)\\approx \\frac{n^2}{4}+\\frac{3n}{4}-\\ln (n)$$\n",
    "$$T(n)\\sim \\frac{n^2}{4} = O(n^2)$$"
   ]
  },
  {
   "cell_type": "code",
   "execution_count": 6,
   "metadata": {},
   "outputs": [],
   "source": [
    "import numpy as np\n",
    "import matplotlib.pyplot as plt\n",
    "import random as rnd\n",
    "import time as tm\n",
    "import scipy as sp\n",
    "\n",
    "def insertion(arr):\n",
    "    n=len(arr)\n",
    "    for i in range(1,n):\n",
    "        ne=arr[i]\n",
    "        loc=i-1\n",
    "        while loc>=0 and arr[loc]>ne:\n",
    "            arr[loc+1]=arr[loc]\n",
    "            loc=loc-1\n",
    "        arr[loc+1]=ne\n",
    "                "
   ]
  },
  {
   "cell_type": "markdown",
   "metadata": {},
   "source": [
    "Definimos el arreglo donde se guardarán los números a ordenar, un arreglo con los tamaños de los arreglos a ordenar y un arreglo para guardar los tiempos de ejecución.\n"
   ]
  },
  {
   "cell_type": "code",
   "execution_count": 8,
   "metadata": {},
   "outputs": [],
   "source": [
    "arreglo=[]\n",
    "sizes=[64,128,256,512,1024,2048,4096,8192]\n",
    "tiempos=[]"
   ]
  },
  {
   "cell_type": "markdown",
   "metadata": {},
   "source": [
    "En el siguiente ciclo se generarán los arreglos con números aleatorios (lineas 2 y 3), se ordenarán con selección tomando sus tiempos (lineas 5 al 8) y luego se descartarán para pasar al siguiente tamaño en el arreglo sizes (lineas 10 y 11). <font color=\"red\">OJO: dependiendo del tamaños de los arreglos el siguiente bloque podría tomar un tiempo considerable en terminar. Como referencia, con burbuja un arreglo de 65536 elementos demora aproximadamente 10 minutos en un pc de escritorio.</font>"
   ]
  },
  {
   "cell_type": "code",
   "execution_count": 9,
   "metadata": {},
   "outputs": [
    {
     "name": "stdout",
     "output_type": "stream",
     "text": [
      "[64, 128, 256, 512, 1024, 2048, 4096, 8192]\n",
      "[0.0002548694610595703, 0.0009272098541259766, 0.003309965133666992, 0.022675037384033203, 0.06489992141723633, 0.263505220413208, 1.0642869472503662, 4.296254873275757]\n"
     ]
    }
   ],
   "source": [
    "for curr_size in sizes:\n",
    "    for i in range(0,curr_size):\n",
    "        arreglo.append(rnd.randint(1,200000))\n",
    "    \n",
    "    tiempo_inicial=tm.time()\n",
    "    insertion(arreglo)\n",
    "    tiempo_final=tm.time()\n",
    "    tiempos.append(tiempo_final-tiempo_inicial)\n",
    "    \n",
    "    del arreglo\n",
    "    arreglo=[]\n",
    "    \n",
    "print (sizes)\n",
    "print (tiempos)"
   ]
  },
  {
   "cell_type": "markdown",
   "metadata": {},
   "source": [
    "Finalmente gráficamos los tiempos a través de la librería matplotlib. Los puntos corresponden a las coordenadas sizes x tiempos y la linea es la aproximación a través de una función cuadrática. Podemos ver que obtenemos el comportamiento esperado para el ordenamiento tipo selección.\n"
   ]
  },
  {
   "cell_type": "code",
   "execution_count": 10,
   "metadata": {},
   "outputs": [
    {
     "data": {
      "image/png": "[encoded data removed]",
      "text/plain": [
       "<Figure size 432x288 with 1 Axes>"
      ]
     },
     "metadata": {
      "needs_background": "light"
     },
     "output_type": "display_data"
    }
   ],
   "source": [
    "aproximacion=sp.polyfit(sizes,tiempos,2)\n",
    "\n",
    "plt.plot(sizes, tiempos, \"or\", label='tiempos')\n",
    "plt.plot(sizes, sp.polyval(aproximacion,sizes), label='cuadratica')\n",
    "plt.xlabel('Tamaño Arreglo')\n",
    "plt.ylabel('Tiempo ordenamiento')\n",
    "\n",
    "plt.title('Ordenamiento inserción')\n",
    "\n",
    "plt.legend(loc='best')\n",
    "\n",
    "plt.show()"
   ]
  }
 ],
 "metadata": {
  "kernelspec": {
   "display_name": "Python 3",
   "language": "python",
   "name": "python3"
  },
  "language_info": {
   "codemirror_mode": {
    "name": "ipython",
    "version": 3
   },
   "file_extension": ".py",
   "mimetype": "text/x-python",
   "name": "python",
   "nbconvert_exporter": "python",
   "pygments_lexer": "ipython3",
   "version": "3.7.0"
  }
 },
 "nbformat": 4,
 "nbformat_minor": 2
}
