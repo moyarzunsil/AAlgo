{
 "cells": [
  {
   "cell_type": "markdown",
   "metadata": {},
   "source": [
    "# Métodos de Ordenamiento\n",
    "\n",
    "## Algoritmo de Ordenamiento por Mezclas (Merge sort)\n",
    "Es un algoritmo que sigue el paradigma \"Divide & Conquer\" (Dividir y Conquistar, Dividir para conquistar, Divide y vencerás, etc...) creado por [John von Neumann](https://es.wikipedia.org/wiki/John_von_Neumann#Ciencia_computacional). Este algoritmo clásico de ordenamiento esta compuesto por dos etapas:\n",
    "\n",
    "- Dividir un arreglo de tamaño $n$ en dos subarreglos de tamaño $\\frac{n}{2}$, los cuales a su vez se dividen recursivamente, hasta que sean indivisibles (tienen solo 1 elemento).\n",
    "- La segunda etapa de Mezcla, asume que un arreglo de tamaño 1 ya esta ordenado, por lo que comienza a mezclar los arreglos de forma ordenada, primero los de tamaño 1, generando arreglos de tamaño 2, luego estos se mezclan generando arreglos de tamaño 4 y así sucesivamente hasta que se obtiene nuevamente un arreglo de tamaño $n$ ordenado.\n",
    "\n",
    "En la siguiente imagen podemos ver como funciona este algoritmo en sus diferentes etapas de <b style=\"color:red\">Dividir</b> y \\textcolor{green}{Mezclar}.\n",
    "\n",
    "<img src=\"./resources/mergesort.svg\"></img>\n",
    "\\includegraphics{./resources/mergesort.png}\n",
    "\n",
    "A continuación podemos ver una implementación de este algoritmo, donde podemos identificar la función que realiza la división (#C1) y luego la función que realiza la mezcla (#C3)."
   ]
  },
  {
   "cell_type": "code",
   "execution_count": 2,
   "metadata": {},
   "outputs": [],
   "source": [
    "# C1: Esta primera funcion realiza la división recursiva del arreglo\n",
    "def mergesort(arr):\n",
    "    print(\"Divide \",arr)\n",
    "    if len(arr)>1:\n",
    "        mid = len(arr)//2\n",
    "        # C2: copiamos cada mitad en un arreglo separado\n",
    "        lefthalf = arr[:mid]\n",
    "        righthalf = arr[mid:]\n",
    "\n",
    "        mergesort(lefthalf)\n",
    "        mergesort(righthalf)\n",
    "        merge(arr,lefthalf,righthalf)\n",
    "        print(\"Merge \", arr)\n",
    "\n",
    "# C3: Esta funcion realiza la mezcla ordenada de los subarreglos      \n",
    "def merge(arr,lefthalf,righthalf):\n",
    "    i=0\n",
    "    j=0\n",
    "    k=0\n",
    "    while i < len(lefthalf) and j < len(righthalf):\n",
    "        if lefthalf[i] < righthalf[j]:\n",
    "            arr[k]=lefthalf[i]\n",
    "            i=i+1\n",
    "        else:\n",
    "            arr[k]=righthalf[j]\n",
    "            j=j+1\n",
    "        k=k+1\n",
    "\n",
    "    while i < len(lefthalf):\n",
    "        arr[k]=lefthalf[i]\n",
    "        i=i+1\n",
    "        k=k+1\n",
    "\n",
    "    while j < len(righthalf):\n",
    "        arr[k]=righthalf[j]\n",
    "        j=j+1\n",
    "        k=k+1           "
   ]
  },
  {
   "cell_type": "markdown",
   "metadata": {},
   "source": [
    "Mergesort es un algoritmo muy eficiente en términos de tiempo, siendo capaz de manejar arreglos de hasta millones de elementos. Como contrapartida, podemos ver que este algoritmo necesita grandes cantidades de memoria extra (#C2), ya que en cada llamada recursiva duplica el espacio necesario para resolver el ordenamiento.\n",
    "Actualmente existen variantes que usan menos espacio, llegando incluso a implementaciones \"in-place\" (algoritmos que no usan memoria extra), sin embargo, el algoritmo a analizar corresponde a la implementación clásica."
   ]
  },
  {
   "cell_type": "code",
   "execution_count": 3,
   "metadata": {},
   "outputs": [
    {
     "name": "stdout",
     "output_type": "stream",
     "text": [
      "Divide  [15, 5, 8, 9, 3, 2, 7, 18, 12]\n",
      "Divide  [15, 5, 8, 9]\n",
      "Divide  [15, 5]\n",
      "Divide  [15]\n",
      "Divide  [5]\n",
      "Merge  [5, 15]\n",
      "Divide  [8, 9]\n",
      "Divide  [8]\n",
      "Divide  [9]\n",
      "Merge  [8, 9]\n",
      "Merge  [5, 8, 9, 15]\n",
      "Divide  [3, 2, 7, 18, 12]\n",
      "Divide  [3, 2]\n",
      "Divide  [3]\n",
      "Divide  [2]\n",
      "Merge  [2, 3]\n",
      "Divide  [7, 18, 12]\n",
      "Divide  [7]\n",
      "Divide  [18, 12]\n",
      "Divide  [18]\n",
      "Divide  [12]\n",
      "Merge  [12, 18]\n",
      "Merge  [7, 12, 18]\n",
      "Merge  [2, 3, 7, 12, 18]\n",
      "Merge  [2, 3, 5, 7, 8, 9, 12, 15, 18]\n",
      "Resultado final\n",
      "[2, 3, 5, 7, 8, 9, 12, 15, 18]\n"
     ]
    }
   ],
   "source": [
    "arreglo=[15,5,8,9,3,2,7,18,12]\n",
    "mergesort(arreglo)\n",
    "print (\"Resultado final\")\n",
    "print (arreglo)"
   ]
  },
  {
   "cell_type": "markdown",
   "metadata": {},
   "source": [
    "### Caso Promedio\n",
    "Para el caso promedio, debemos analizar el costo de ambas llamadas recursivas y a eso sumarle el costo de la llamada al merge. En general tenemos que:\n",
    "\n",
    "$$T_d(n)=T_d(\\frac{n}{2})+T_d(\\frac{n}{2})+T_m(n)$$\n",
    "\n",
    "La función merge realiza un recorrido secuencial por ambos arreglos, de esta manera ordena el arreglo mayor. Esto nos indica que su costo es lineal al número de elementos ($T_m(n)=n$), quedando nuestra ecuación de costo:\n",
    "\n",
    "$$T_d(n)=T_d(\\frac{n}{2})+T_d(\\frac{n}{2})+n$$\n",
    "$$T_d(n)=2T_d(\\frac{n}{2})+n$$\n",
    "\n",
    "Dividiendo por $n$:\n",
    "\n",
    "$$\\frac{T_d(n)}{n}=\\frac{2T_d(\\frac{n}{2})}{n}+1$$\n",
    "\n",
    "Para resolver esta ecuación trabajaremos sobre el supuesto que $n$ es múltiplo de 2 ($n=2^x$).\n",
    "\n",
    "$$\\frac{T_d(2^x)}{2^x}=\\frac{2T_d(\\frac{2^x}{2})}{2^x}+1$$\n",
    "\\begin{equation*}\\tag{1}\\label{eq:1}\n",
    "\\frac{T_d(2^x)}{2^x}=\\frac{T_d(2^{x-1})}{2^{x-1}}+1\n",
    "\\end{equation*}\n",
    "\n",
    "Por lo tanto:\n",
    "\\begin{equation*}\\tag{2}\\label{eq:2}\n",
    "\\frac{T_d(2^{x-1})}{2^{x-1}}=\\frac{T_d(2^{x-2})}{2^{x-2}}+1\n",
    "\\end{equation*}\n",
    "\n",
    "Reemplazando \\ref{eq:2} en \\ref{eq:1} tenemos que:\n",
    "$$\\frac{T_d(2^x)}{2^x}=\\frac{T_d(2^{x-2})}{2^{x-2}}+1+1$$\n",
    "\n",
    "Repitiendo el proceso $n-1$ veces:\n",
    "$$\\frac{T_d(2^x)}{2^x}=\\frac{T_d(2^0)}{2^0}+x$$\n",
    "$$\\frac{T_d(2^x)}{2^x}=T_d(1)+x$$\n",
    "$$T_d(1)=0$$\n",
    "$$T_d(2^x)=x2^x$$\n",
    "\n",
    "¿Cuanto es $x$ respecto a $n$?\n",
    "$$n=2^x$$\n",
    "$$\\lg n = x\\lg 2$$\n",
    "$$x=\\lg n$$\n",
    "\n",
    "Por lo tanto:\n",
    "$$T_d(n)=n\\lg n$$\n",
    "\n",
    "### Análisis Experimental\n",
    "A continuación podemos ver el código en python para la implementación de mergesort. Con este código realizaremos nuestro análisis experimental."
   ]
  },
  {
   "cell_type": "code",
   "execution_count": 4,
   "metadata": {},
   "outputs": [],
   "source": [
    "import numpy as np\n",
    "import matplotlib.pyplot as plt\n",
    "import random as rnd\n",
    "import time as tm\n",
    "import scipy as sp\n",
    "\n",
    "def mergesort(arr):\n",
    "    if len(arr)>1:\n",
    "        mid = len(arr)//2\n",
    "        lefthalf = arr[:mid]\n",
    "        righthalf = arr[mid:]\n",
    "\n",
    "        mergesort(lefthalf)\n",
    "        mergesort(righthalf)\n",
    "        merge(arr,lefthalf,righthalf)\n",
    "\n",
    "def merge(arr,lefthalf,righthalf):\n",
    "    i=0\n",
    "    j=0\n",
    "    k=0\n",
    "    while i < len(lefthalf) and j < len(righthalf):\n",
    "        if lefthalf[i] < righthalf[j]:\n",
    "            arr[k]=lefthalf[i]\n",
    "            i=i+1\n",
    "        else:\n",
    "            arr[k]=righthalf[j]\n",
    "            j=j+1\n",
    "        k=k+1\n",
    "\n",
    "    while i < len(lefthalf):\n",
    "        arr[k]=lefthalf[i]\n",
    "        i=i+1\n",
    "        k=k+1\n",
    "\n",
    "    while j < len(righthalf):\n",
    "        arr[k]=righthalf[j]\n",
    "        j=j+1\n",
    "        k=k+1  "
   ]
  },
  {
   "cell_type": "markdown",
   "metadata": {},
   "source": [
    "Definimos el arreglo donde se guardarán los números a ordenar, un arreglo con los tamaños de los arreglos a ordenar y un arreglo para guardar los tiempos de ejecución.\n"
   ]
  },
  {
   "cell_type": "code",
   "execution_count": 5,
   "metadata": {},
   "outputs": [],
   "source": [
    "arreglo=[]\n",
    "sizes=[64,128,256,512,1024,2048,4096,8192]\n",
    "tiempos=[]"
   ]
  },
  {
   "cell_type": "markdown",
   "metadata": {},
   "source": [
    "En el siguiente ciclo se generarán los arreglos con números aleatorios (#C4), se ordenarán con mergesort tomando sus tiempos (#C5) y luego se descartarán para pasar al siguiente tamaño en el arreglo sizes (#C6)."
   ]
  },
  {
   "cell_type": "code",
   "execution_count": 6,
   "metadata": {},
   "outputs": [
    {
     "name": "stdout",
     "output_type": "stream",
     "text": [
      "[64, 128, 256, 512, 1024, 2048, 4096, 8192]\n",
      "[0.00031304359436035156, 0.0006031990051269531, 0.0013430118560791016, 0.0028150081634521484, 0.007359027862548828, 0.015262126922607422, 0.02792072296142578, 0.0589907169342041]\n"
     ]
    }
   ],
   "source": [
    "for curr_size in sizes:\n",
    "    # C4: generación de los arreglos aleatorios\n",
    "    for i in range(0,curr_size):\n",
    "        arreglo.append(rnd.randint(1,200000))\n",
    "    \n",
    "    # C5: llamada a mergesort y toma de tiempos\n",
    "    tiempo_inicial=tm.time()\n",
    "    mergesort(arreglo)\n",
    "    tiempo_final=tm.time()\n",
    "    tiempos.append(tiempo_final-tiempo_inicial)\n",
    "    \n",
    "    # C6: se descarta el arreglo actual para pasar a la\n",
    "    # siguiente iteración\n",
    "    del arreglo\n",
    "    arreglo=[]\n",
    "    \n",
    "print (sizes)\n",
    "print (tiempos)"
   ]
  },
  {
   "cell_type": "markdown",
   "metadata": {},
   "source": [
    "Finalmente gráficamos los tiempos a través de la librería matplotlib. Los puntos corresponden a las coordenadas sizes x tiempos y la linea es la aproximación. Podemos ver que obtenemos el comportamiento esperado para el ordenamiento por mezclas, con una gráfica levemente superior a lineal.\n"
   ]
  },
  {
   "cell_type": "code",
   "execution_count": 8,
   "metadata": {},
   "outputs": [
    {
     "data": {
      "image/png": "[encoded data removed]",
      "text/plain": [
       "<Figure size 432x288 with 1 Axes>"
      ]
     },
     "metadata": {
      "needs_background": "light"
     },
     "output_type": "display_data"
    }
   ],
   "source": [
    "aproximacion=sp.polyfit(sizes,tiempos,3)\n",
    "\n",
    "plt.plot(sizes, tiempos, \"or\", label='tiempos reales')\n",
    "plt.plot(sizes, sp.polyval(aproximacion,sizes), label='fx aproximación')\n",
    "plt.xlabel('Tamaño Arreglo')\n",
    "plt.ylabel('Tiempo ordenamiento')\n",
    "\n",
    "plt.title('Ordenamiento por mezclas')\n",
    "\n",
    "plt.legend(loc='best')\n",
    "\n",
    "plt.show()"
   ]
  }
 ],
 "metadata": {
  "kernelspec": {
   "display_name": "Python 3",
   "language": "python",
   "name": "python3"
  },
  "language_info": {
   "codemirror_mode": {
    "name": "ipython",
    "version": 3
   },
   "file_extension": ".py",
   "mimetype": "text/x-python",
   "name": "python",
   "nbconvert_exporter": "python",
   "pygments_lexer": "ipython3",
   "version": "3.7.2"
  }
 },
 "nbformat": 4,
 "nbformat_minor": 2
}
