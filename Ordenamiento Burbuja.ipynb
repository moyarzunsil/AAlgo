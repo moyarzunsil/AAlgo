{
 "cells": [
  {
   "cell_type": "markdown",
   "metadata": {},
   "source": [
    "# Métodos de Ordenamiento\n",
    "\n",
    "## ?`Qué es ordenar?\n",
    "Es el proceso de recorrer y reposicionar una secuencia de objetos para dejarlos en una secuencia determinada por un criterio dado.\n",
    "Este tipo de criterio es contextual y siempre va a depender de la aplicación que queramos darle, como por ejemplo:\n",
    "\n",
    " - Fecha de nacimiento\n",
    " - Número de RUT\n",
    " - Valor absoluto\n",
    " \n",
    "\\textcolor{red}{?`Por qué es interesante analizar los métodos de ordenamiento?}\n",
    "Porque son procesos costosos y críticos en cualquier sistema computacional.\n",
    "\n",
    "## Algoritmo de Ordenamiento Burbuja (Bubble sort)\n",
    "Este método compara exhaustivamente cada posición del arreglo con la siguiente, si no estan ordenadas las intercambia. Este proceso lo repite $n$ veces, donde $n$ es el tamaño del arreglo. En cada iteración, el elemento mayor queda en su posición final. En el código definimos una función swap, que realizará el intercambio cuando sea necesario (#C1). El algoritmo burbuja propiamente tal, lo podemos ver en #C2."
   ]
  },
  {
   "cell_type": "code",
   "execution_count": 1,
   "metadata": {},
   "outputs": [],
   "source": [
    "# C1: función swap para el intercambio de elementos en \n",
    "# un array A las posiciones x e y.\n",
    "def swap(A,x,y):\n",
    "    print(\"Posición \"+str(x)+\" por posición \"+str(y))\n",
    "    print(A)\n",
    "    aux=A[x]\n",
    "    A[x]=A[y]\n",
    "    A[y]=aux\n",
    "\n",
    "# C2: función burbuja\n",
    "def burbuja(A):\n",
    "    n=len(A)\n",
    "    for i in range(1,n):\n",
    "        for j in range(1,n):\n",
    "            if A[j]<A[j-1]:\n",
    "                swap(A,j,j-1)\n",
    "                "
   ]
  },
  {
   "cell_type": "markdown",
   "metadata": {},
   "source": [
    "Algunas mejoras que se le pueden aplicar a este algoritmo son:\n",
    "\n",
    " - Acortar la iteración en $j$, dado que el último elemento siempre estará ordenado, como veremos más adelante.\n",
    " - Colocar una bandera que indique si se realizo algún intercambio, en caso contrario, detiene la ejecución pues este ha finalizado."
   ]
  },
  {
   "cell_type": "code",
   "execution_count": 2,
   "metadata": {},
   "outputs": [],
   "source": [
    "def burbuja_mejorado(A):\n",
    "    n=len(A)\n",
    "    for i in range(1,n):\n",
    "        flag=false\n",
    "        for j in range(1,n-i-1):\n",
    "            if A[j]<A[j-1]:\n",
    "                flag=true\n",
    "                swap(A,j,j-1)\n",
    "                \n",
    "        if not flag:\n",
    "            break\n",
    "            "
   ]
  },
  {
   "cell_type": "markdown",
   "metadata": {},
   "source": [
    "Para observar como funciona este algoritmo paso a paso, crearemos un arreglo desordenado. Cada linea contendrá, que es lo que hay que cambiar y el estado actual del arreglo. Para este caso solo hemos considerado mostrar cuando se realiza un intercambio para evitar una traza demasiado extensa."
   ]
  },
  {
   "cell_type": "code",
   "execution_count": 3,
   "metadata": {},
   "outputs": [
    {
     "name": "stdout",
     "output_type": "stream",
     "text": [
      "Posición 1 por posición 0\n",
      "[15, 5, 8, 9, 3, 2, 7, 18, 12]\n",
      "Posición 2 por posición 1\n",
      "[5, 15, 8, 9, 3, 2, 7, 18, 12]\n",
      "Posición 3 por posición 2\n",
      "[5, 8, 15, 9, 3, 2, 7, 18, 12]\n",
      "Posición 4 por posición 3\n",
      "[5, 8, 9, 15, 3, 2, 7, 18, 12]\n",
      "Posición 5 por posición 4\n",
      "[5, 8, 9, 3, 15, 2, 7, 18, 12]\n",
      "Posición 6 por posición 5\n",
      "[5, 8, 9, 3, 2, 15, 7, 18, 12]\n",
      "Posición 8 por posición 7\n",
      "[5, 8, 9, 3, 2, 7, 15, 18, 12]\n",
      "Posición 3 por posición 2\n",
      "[5, 8, 9, 3, 2, 7, 15, 12, 18]\n",
      "Posición 4 por posición 3\n",
      "[5, 8, 3, 9, 2, 7, 15, 12, 18]\n",
      "Posición 5 por posición 4\n",
      "[5, 8, 3, 2, 9, 7, 15, 12, 18]\n",
      "Posición 7 por posición 6\n",
      "[5, 8, 3, 2, 7, 9, 15, 12, 18]\n",
      "Posición 2 por posición 1\n",
      "[5, 8, 3, 2, 7, 9, 12, 15, 18]\n",
      "Posición 3 por posición 2\n",
      "[5, 3, 8, 2, 7, 9, 12, 15, 18]\n",
      "Posición 4 por posición 3\n",
      "[5, 3, 2, 8, 7, 9, 12, 15, 18]\n",
      "Posición 1 por posición 0\n",
      "[5, 3, 2, 7, 8, 9, 12, 15, 18]\n",
      "Posición 2 por posición 1\n",
      "[3, 5, 2, 7, 8, 9, 12, 15, 18]\n",
      "Posición 1 por posición 0\n",
      "[3, 2, 5, 7, 8, 9, 12, 15, 18]\n",
      "Resultado final\n",
      "[2, 3, 5, 7, 8, 9, 12, 15, 18]\n"
     ]
    }
   ],
   "source": [
    "arreglo=[15,5,8,9,3,2,7,18,12]\n",
    "burbuja(arreglo)\n",
    "print (\"Resultado final\")\n",
    "print (arreglo)"
   ]
  },
  {
   "cell_type": "markdown",
   "metadata": {},
   "source": [
    "### Mejor Caso\n",
    "En el mejor de los casos, cuando el arreglo esta ordenado, el algoritmo burbuja realiza todas las comparaciones $O(n^2)$, mientras que el mejorado, se detiene despues de la primera iteración $O(n)$. En ambos casos no realiza intercambios."
   ]
  },
  {
   "cell_type": "markdown",
   "metadata": {},
   "source": [
    "### Peor Caso\n",
    "En el peor de los casos, cuando el arreglo está ordenado con el criterio inverso al solicitado, el algoritmo realiza todas las comparaciones posibles $O(n^2)$ y tambien todos los intercambios $O(n^2)$."
   ]
  },
  {
   "cell_type": "markdown",
   "metadata": {},
   "source": [
    "### Caso Promedio\n",
    "El caso promedio es el más dificil de manejar, ya que debemos generalizar el comportamiento del algoritmo. Para ello trabajaremos en base al algoritmo burbuja y tendremos ciertos supuestos que nos ayudarán:\n",
    "\n",
    " - Supondremos que la probabilidad de encontrarnos en un momento determinado en cualquier iteración es la misma, es decir: $$P(i)=\\frac{1}{n-1}$$\n",
    " - Además, como el algoritmo puede terminar de forma temprana (por acción de la bandera), pudiendo ser $i$ mayor que el momento donde este acaba, supondremos una función $C(i)$ que calcula el número de comparaciónes hasta la iteración $i$.\n",
    " \n",
    "De esta manera, el tiempo requerido para resolver el algoritmo burbuja en cualquier momento $n$ es:\n",
    "\n",
    "\\begin{equation*}\\tag{1}\\label{eq:1}\n",
    "T(n)=\\frac{1}{n-1}\\sum_{i=1}^{n-1} C(i)\n",
    "\\end{equation*}\n",
    "\n",
    "Dado que no conocemos el comportamiento de $C(i)$, debemos calcularlo en base a las cosas que conocemos del comportamiento del algoritmo. Ya que el comportamiento general del algoritmo indica que en su primera iteración realizará $n-1$ comparaciones, $n-2$ en la segunda, $n-3$ en la tercera y $n-i$ de forma general, podemos deducir que:\n",
    "$$C(i)=\\sum_{j=n-1}^{n-i} j$$\n",
    "$$C(i)=\\sum_{j=n-i}^{n-1} j$$\n",
    "$$C(i)=\\sum_{j=1}^{n-1} j - \\sum_{j=1}^{n-i-1} j$$\n",
    "$$C(i)=\\frac{(n-1)n}{2} - \\frac{n^2-2ni+i^2-n+i}{2}$$\n",
    "\\begin{equation*}\\tag{2}\\label{eq:2}\n",
    "C(i)=\\frac{2ni-i^2-i}{2} = ni-\\frac{i^2}{2}-\\frac{i}{2}\n",
    "\\end{equation*}\n",
    "\n",
    "Reemplazando el valor de $C(i)$ (ecuación \\ref{eq:2}), en $T(n)$ (ecuación \\ref{eq:1}) tenemos que:\n",
    "$$T(n)=\\frac{1}{n-1}\\sum_{i=1}^{n-1} ni-\\frac{i^2}{2}-\\frac{i}{2}$$\n",
    "$$T(n)=\\frac{1}{n-1}\\left(\\sum_{i=1}^{n-1} ni - \\sum_{i=1}^{n-1} \\frac{i^2}{2} - \\sum_{i=1}^{n-1} \\frac{i}{2}\\right)$$\n",
    "$$T(n)=\\frac{1}{n-1} \\left( n \\sum_{i=1}^{n-1} i - \\frac{1}{2} \\sum_{i=1}^{n-1} i^2 - \\frac{1}{2} \\sum_{i=1}^{n-1} i\\right)$$\n",
    "$$T(n)=\\frac{1}{n-1} \\left( n \\frac{(n-1)n}{2} - \\frac{1}{2} \\frac{(n-1)n(2n-1)}{6} - \\frac{1}{2} \\frac{(n-1)n}{2} \\right)$$\n",
    "$$T(n)= \\frac{n^2}{2} - \\frac{2n^2-n}{12} - \\frac{n}{4}$$\n",
    "$$T(n)= \\frac{n^2}{3} - \\frac{n}{6}$$\n",
    "$$T(n) \\sim \\frac{n^2}{3} $$\n",
    "$$T(n)=O(n^2)$$\n",
    "\n",
    "\n",
    "### Análisis experimental\n",
    "Este comportamiento cuadrático podemos verlo refrendado experimentalmente haciendo uso de un simple script en python. Incluimos las librerias de python para manejar funciones matemáticas (numpy), para graficar (matplotlib), para generar números aleatorios (random) y para tomar tiempo de ejecución (time). Además, redefinimos la función auxiliar swap y burbuja."
   ]
  },
  {
   "cell_type": "code",
   "execution_count": 8,
   "metadata": {},
   "outputs": [],
   "source": [
    "import numpy as np\n",
    "import matplotlib.pyplot as plt\n",
    "import random as rnd\n",
    "import time as tm\n",
    "import scipy as sp\n",
    "\n",
    "def swap(A,x,y):\n",
    "    aux=A[x]\n",
    "    A[x]=A[y]\n",
    "    A[y]=aux\n",
    "\n",
    "def burbuja(A):\n",
    "    n=len(A)\n",
    "    for i in range(1,n):\n",
    "        for j in range(1,n):\n",
    "            if A[j]<A[j-1]:\n",
    "                swap(A,j,j-1)\n",
    "                "
   ]
  },
  {
   "cell_type": "markdown",
   "metadata": {},
   "source": [
    "Definimos el arreglo donde se guardarán los números a ordenar, un arreglo con los tamaños de los arreglos a ordenar y un arreglo para guardar los tiempos de ejecución.\n"
   ]
  },
  {
   "cell_type": "code",
   "execution_count": 9,
   "metadata": {},
   "outputs": [],
   "source": [
    "arreglo=[]\n",
    "sizes=[64,128,256,512,1024,2048,4096,8192]\n",
    "tiempos=[]"
   ]
  },
  {
   "cell_type": "markdown",
   "metadata": {},
   "source": [
    "En el siguiente ciclo se generarán los arreglos con números aleatorios (#C3), se ordenarán con burbuja tomando sus tiempos (#C4) y luego se descartarán para pasar al siguiente tamaño en el arreglo sizes (#C5). <font color=\"red\">OJO: dependiendo del tamaños de los arreglos el siguiente bloque podría tomar un tiempo considerable en terminar. Como referencia, con burbuja un arreglo de 65536 elementos demora aproximadamente 10 minutos en un pc de escritorio.</font>"
   ]
  },
  {
   "cell_type": "code",
   "execution_count": 10,
   "metadata": {
    "scrolled": true
   },
   "outputs": [
    {
     "name": "stdout",
     "output_type": "stream",
     "text": [
      "[64, 128, 256, 512, 1024, 2048, 4096, 8192]\n",
      "[0.0012710094451904297, 0.005742073059082031, 0.019527196884155273, 0.0714719295501709, 0.2037220001220703, 0.7347419261932373, 3.1318788528442383, 12.379318952560425]\n"
     ]
    }
   ],
   "source": [
    "for curr_size in sizes:\n",
    "    # C3: generación de los arreglos aleatorios\n",
    "    for i in range(0,curr_size):\n",
    "        arreglo.append(rnd.randint(1,200000))\n",
    "    \n",
    "    # C4: llamada a burbuja y toma de tiempos\n",
    "    tiempo_inicial=tm.time()\n",
    "    burbuja(arreglo)\n",
    "    tiempo_final=tm.time()\n",
    "    tiempos.append(tiempo_final-tiempo_inicial)\n",
    "    \n",
    "    # C5: se descarta el arreglo actual para pasar a la\n",
    "    # siguiente iteración\n",
    "    del arreglo\n",
    "    arreglo=[]\n",
    "    \n",
    "print (sizes)\n",
    "print (tiempos)"
   ]
  },
  {
   "cell_type": "markdown",
   "metadata": {},
   "source": [
    "Finalmente gráficamos los tiempos a través de la librería matplotlib. Los puntos corresponden a las coordenadas sizes x tiempos y la linea es la aproximación a través de una función cuadrática. Podemos ver que obtenemos el comportamiento esperado para el ordenamiento tipo burbuja.\n"
   ]
  },
  {
   "cell_type": "code",
   "execution_count": 11,
   "metadata": {},
   "outputs": [
    {
     "data": {
      "image/png": "[encoded data removed]",
      "text/plain": [
       "<Figure size 432x288 with 1 Axes>"
      ]
     },
     "metadata": {
      "needs_background": "light"
     },
     "output_type": "display_data"
    }
   ],
   "source": [
    "aproximacion=sp.polyfit(sizes,tiempos,2)\n",
    "\n",
    "plt.plot(sizes, tiempos, \"or\", label='tiempos reales')\n",
    "plt.plot(sizes, sp.polyval(aproximacion,sizes), label='fx cuadratica')\n",
    "plt.xlabel('Tamaño Arreglo')\n",
    "plt.ylabel('Tiempo ordenamiento')\n",
    "\n",
    "plt.title('Ordenamiento burbuja')\n",
    "\n",
    "plt.legend(loc='best')\n",
    "\n",
    "plt.show()"
   ]
  }
 ],
 "metadata": {
  "kernelspec": {
   "display_name": "Python 3",
   "language": "python",
   "name": "python3"
  },
  "language_info": {
   "codemirror_mode": {
    "name": "ipython",
    "version": 3
   },
   "file_extension": ".py",
   "mimetype": "text/x-python",
   "name": "python",
   "nbconvert_exporter": "python",
   "pygments_lexer": "ipython3",
   "version": "3.7.5"
  }
 },
 "nbformat": 4,
 "nbformat_minor": 2
}
